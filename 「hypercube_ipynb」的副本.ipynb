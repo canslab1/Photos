{
  "metadata": {
    "language_info": {
      "codemirror_mode": {
        "name": "python",
        "version": 3
      },
      "file_extension": ".py",
      "mimetype": "text/x-python",
      "name": "python",
      "nbconvert_exporter": "python",
      "pygments_lexer": "ipython3",
      "version": "3.8"
    },
    "kernelspec": {
      "name": "python",
      "display_name": "Python (Pyodide)",
      "language": "python"
    },
    "colab": {
      "name": "「hypercube.ipynb」的副本",
      "provenance": [],
      "collapsed_sections": [],
      "include_colab_link": true
    }
  },
  "nbformat_minor": 0,
  "nbformat": 4,
  "cells": [
    {
      "cell_type": "markdown",
      "metadata": {
        "id": "view-in-github",
        "colab_type": "text"
      },
      "source": [
        "<a href=\"https://colab.research.google.com/github/canslab1/Photos/blob/main/%E3%80%8Chypercube_ipynb%E3%80%8D%E7%9A%84%E5%89%AF%E6%9C%AC.ipynb\" target=\"_parent\"><img src=\"https://colab.research.google.com/assets/colab-badge.svg\" alt=\"Open In Colab\"/></a>"
      ]
    },
    {
      "cell_type": "code",
      "source": [
        "import math\n",
        "import networkx as nx\n",
        "import time \n",
        "\n",
        "from random     import sample\n",
        "from matplotlib import pyplot as plt"
      ],
      "metadata": {
        "trusted": true,
        "id": "K65urHXEpUCf"
      },
      "execution_count": null,
      "outputs": []
    },
    {
      "cell_type": "code",
      "source": [
        "_ORIGINAL_SIZE_ = 'size'\n",
        "_NODE_PAIR_     = 2"
      ],
      "metadata": {
        "trusted": true,
        "id": "Bz8wOyrupUCh"
      },
      "execution_count": null,
      "outputs": []
    },
    {
      "cell_type": "code",
      "source": [
        "def add_shortcuts (g, p = 0.01):\n",
        "    g.graph[_ORIGINAL_SIZE_] = (g.graph[_ORIGINAL_SIZE_] if _ORIGINAL_SIZE_ in g.graph else float(g.size()))\n",
        "    number_of_links = round(g.graph[_ORIGINAL_SIZE_] * p, 0)\n",
        "    count = 0\n",
        "    while count < number_of_links:\n",
        "        random_nodes = sample(list(g.nodes()), _NODE_PAIR_)\n",
        "        if random_nodes[0] != random_nodes[1]: \n",
        "            if not g.has_edge(random_nodes[0], random_nodes[1]):\n",
        "                g.add_edge(random_nodes[0], random_nodes[1])\n",
        "                count += 1"
      ],
      "metadata": {
        "trusted": true,
        "id": "8sGVQmCbpUCh"
      },
      "execution_count": null,
      "outputs": []
    },
    {
      "cell_type": "code",
      "source": [
        "def avg_SPL (g, sample_size = 1000):\n",
        "    sample_size = min(sample_size, (g.graph[_ORIGINAL_SIZE_] if _ORIGINAL_SIZE_ in g.graph else g.size()))\n",
        "    total = 0.0\n",
        "    count = 0\n",
        "    while count < sample_size:\n",
        "        random_nodes = sample(list(g.nodes()), _NODE_PAIR_)\n",
        "        if random_nodes[0] != random_nodes[1]:\n",
        "            total += nx.shortest_path_length(g, random_nodes[0], random_nodes[1])\n",
        "            count += 1\n",
        "    return round(total / count, 3)"
      ],
      "metadata": {
        "trusted": true,
        "id": "GdtPI9XopUCi"
      },
      "execution_count": null,
      "outputs": []
    },
    {
      "cell_type": "code",
      "source": [
        "def exp (g, step_size = 0.01, start = 0.0, end = 1.0):\n",
        "    index    = round(start, 3)\n",
        "    exp_data = {index:avg_SPL(g)}\n",
        "    while index <= end:\n",
        "        index = round(index + step_size, 3)\n",
        "        add_shortcuts(g, step_size)\n",
        "        exp_data[index] = avg_SPL(g)\n",
        "    return exp_data"
      ],
      "metadata": {
        "trusted": true,
        "id": "Bg_s8zLkpUCi"
      },
      "execution_count": null,
      "outputs": []
    },
    {
      "cell_type": "code",
      "source": [
        "dim     =  16\n",
        "max_exp = 100\n",
        "\n",
        "step  = round(0.01, 3)\n",
        "start = round(0.0,  3)\n",
        "end   = round(2.0,  3)\n",
        "\n",
        "K_graph_size = int((2 ** dim) * ((2 ** dim) - 1) / 2)"
      ],
      "metadata": {
        "trusted": true,
        "id": "_143oyUBpUCi"
      },
      "execution_count": null,
      "outputs": []
    },
    {
      "cell_type": "code",
      "source": [
        "data = {}\n",
        "print(f'Creating Hypercube (d={dim})...')\n",
        "g = nx.hypercube_graph(dim)\n",
        "print(f'Hypercube({dim}) (|N|={g.order()}, |E|={g.size()}) vs. {g.order()}-nodes complete graph (|E|={K_graph_size})')\n",
        "G = g.copy()\n",
        "for exp_num in range(max_exp):\n",
        "    print(f'+-Exp. {exp_num:2} begigs with a shortcuts-adding prob. p = {start} to {end} step {step}')\n",
        "    g = G.copy()\n",
        "    data[exp_num] = exp(g, step, start, end)\n",
        "print('OK')"
      ],
      "metadata": {
        "trusted": true,
        "colab": {
          "base_uri": "https://localhost:8080/"
        },
        "id": "It6w9qLnpUCj",
        "outputId": "e80e0f29-1bde-450f-9972-e0bb6db8459d"
      },
      "execution_count": null,
      "outputs": [
        {
          "output_type": "stream",
          "name": "stdout",
          "text": [
            "Creating Hypercube (d=16)...\n",
            "Hypercube(16) (|N|=65536, |E|=524288) vs. 65536-nodes complete graph (|E|=2147450880)\n",
            "+-Exp.  0 begigs with a shortcuts-adding prob. p = 0.0 to 2.0 step 0.01\n"
          ]
        }
      ]
    },
    {
      "cell_type": "code",
      "source": [
        "print('Calculating...')\n",
        "index  = round(start, 3)\n",
        "x_data = []\n",
        "y_data = []\n",
        "while index <= end:\n",
        "    x_data.append(index)\n",
        "    tot = 0\n",
        "    for exp_num in range(max_exp):\n",
        "        tot += data[exp_num][index]\n",
        "    avg = round(tot / max_exp, 3)\n",
        "    y_data.append(avg)\n",
        "    index = round(index + step, 3)\n",
        "print('OK')"
      ],
      "metadata": {
        "trusted": true,
        "id": "ucGglVlmpUCk"
      },
      "execution_count": null,
      "outputs": []
    },
    {
      "cell_type": "markdown",
      "source": [
        "# 新增區段"
      ],
      "metadata": {
        "id": "aMYERHSFO-w-"
      }
    },
    {
      "cell_type": "code",
      "source": [
        "plt.figure()\n",
        "plt.plot(x_data, y_data)\n",
        "plt.show()"
      ],
      "metadata": {
        "trusted": true,
        "id": "pYRAU26MpUCk"
      },
      "execution_count": null,
      "outputs": []
    },
    {
      "cell_type": "code",
      "source": [
        ""
      ],
      "metadata": {
        "id": "_oBEzeitpUCk"
      },
      "execution_count": null,
      "outputs": []
    }
  ]
}